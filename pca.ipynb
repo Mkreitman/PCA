{
 "cells": [
  {
   "cell_type": "code",
   "execution_count": null,
   "id": "2167d230-8561-4cc8-9f62-c699b68b6490",
   "metadata": {},
   "outputs": [],
   "source": [
    "import numpy as np\n",
    "import pandas as pd\n",
    "from sklearn.decomposition import PCA\n",
    "from sklearn.preprocessing import StandardScaler\n",
    "import matplotlib.pyplot as plt\n",
    "from sklearn.cluster import KMeans"
   ]
  },
  {
   "cell_type": "code",
   "execution_count": null,
   "id": "60a70a97-018e-46fe-8eb4-494ae960113f",
   "metadata": {},
   "outputs": [],
   "source": [
    "df = pd.read_csv(\"./data/Dataset.csv\")"
   ]
  },
  {
   "cell_type": "code",
   "execution_count": null,
   "id": "4327f0ef-b267-4ac0-9ffd-6b45101787a5",
   "metadata": {},
   "outputs": [],
   "source": [
    "df.head()"
   ]
  },
  {
   "cell_type": "code",
   "execution_count": null,
   "id": "eae62e76-384a-423e-8d64-7ed60eb75a25",
   "metadata": {},
   "outputs": [],
   "source": [
    "#checking null values\n",
    "print(df.isnull().sum())"
   ]
  },
  {
   "cell_type": "code",
   "execution_count": null,
   "id": "294718ef-6ddb-41f4-9839-72a1c0bf52a9",
   "metadata": {},
   "outputs": [],
   "source": [
    "#imputing 0 for null in Cholesterol/100g and Sodium/100g\n",
    "df[['Cholesterol/100g', 'Sodium/100g']] = df[['Cholesterol/100g', 'Sodium/100g']].fillna(0)"
   ]
  },
  {
   "cell_type": "code",
   "execution_count": null,
   "id": "e5098300-d78b-4335-8ef1-7e4f2af3dbfa",
   "metadata": {},
   "outputs": [],
   "source": [
    "#verifying all columns filled\n",
    "print(df.isnull().sum())"
   ]
  },
  {
   "cell_type": "code",
   "execution_count": null,
   "id": "1b0bd3cf-cd56-4ae5-91ba-86c756023534",
   "metadata": {},
   "outputs": [],
   "source": [
    "# Standardizing the data, dropping non-numeric feature \"Food\"\n",
    "features = df.drop(columns='Food')\n",
    "scaler = StandardScaler()\n",
    "scaled_features = scaler.fit_transform(features)\n"
   ]
  },
  {
   "cell_type": "code",
   "execution_count": null,
   "id": "96fbd398-0539-45e9-8f23-d233c840517b",
   "metadata": {},
   "outputs": [],
   "source": [
    "# Performing PCA\n",
    "pca = PCA()\n",
    "pca.fit_transform(scaled_features)"
   ]
  },
  {
   "cell_type": "code",
   "execution_count": null,
   "id": "b5546f75-0fb5-49e6-b540-fc73b5d825ca",
   "metadata": {},
   "outputs": [],
   "source": [
    "# Explained variance ratio\n",
    "explained_variance_ratio = pca.explained_variance_ratio_\n",
    "\n",
    "# Cumulative explained variance\n",
    "cumulative_explained_variance = explained_variance_ratio.cumsum()"
   ]
  },
  {
   "cell_type": "code",
   "execution_count": null,
   "id": "f3113dbf-97ef-415c-8ee0-c4cea0dc7968",
   "metadata": {},
   "outputs": [],
   "source": [
    "# Plotting cumulative explained variance\n",
    "plt.figure(figsize=(8, 5))\n",
    "plt.plot(range(1, len(cumulative_explained_variance) + 1), cumulative_explained_variance, marker='o', linestyle='--')\n",
    "plt.xlabel('Number of Components')\n",
    "plt.ylabel('Cumulative Explained Variance')\n",
    "plt.title('Explained Variance by Number of Components')\n",
    "plt.axhline(y=0.95, color='r', linestyle='-')\n",
    "plt.axhline(y=0.99, color='g', linestyle='-')\n",
    "plt.show()"
   ]
  },
  {
   "cell_type": "code",
   "execution_count": null,
   "id": "46b8303c-cde8-4458-a4a2-ce9f9b17328e",
   "metadata": {},
   "outputs": [],
   "source": [
    "for i, evr in enumerate(explained_variance_ratio):\n",
    "    print(f\"Principal Component {i+1} variance explained: {evr*100:.2f}%\")"
   ]
  },
  {
   "cell_type": "markdown",
   "id": "c0c9b446-5a18-4866-b662-08b6d574aeab",
   "metadata": {},
   "source": [
    "## First big drop of proportion of variance is between PC2 and PC3, so try 2 principal components?"
   ]
  },
  {
   "cell_type": "code",
   "execution_count": null,
   "id": "a8665762-984e-4d17-8301-e1d3317105ec",
   "metadata": {},
   "outputs": [],
   "source": [
    "n_components = 2\n",
    "pca = PCA(n_components=n_components)\n",
    "principal_components = pca.fit_transform(scaled_features)"
   ]
  },
  {
   "cell_type": "code",
   "execution_count": null,
   "id": "715cdfa0-741d-43eb-848a-df97942c78d8",
   "metadata": {},
   "outputs": [],
   "source": [
    "pca_columns = [f'PC{i+1}' for i in range(n_components)]\n",
    "pca_df = pd.DataFrame(data=principal_components, columns=pca_columns)\n",
    "pca_df = pd.concat([df[['Food']], pca_df], axis=1)"
   ]
  },
  {
   "cell_type": "code",
   "execution_count": null,
   "id": "66149059-6c23-4b33-8b37-81bdfa5fe8be",
   "metadata": {},
   "outputs": [],
   "source": [
    "#pca_df.to_csv('data_with_prinicipal')"
   ]
  },
  {
   "cell_type": "code",
   "execution_count": null,
   "id": "fe3a2501-b964-40ed-b7fb-5670d5c0267a",
   "metadata": {},
   "outputs": [],
   "source": [
    "plt.figure(figsize=(8, 6))\n",
    "plt.scatter(pca_df['PC1'], pca_df['PC2'], c='blue')\n",
    "for i, food in enumerate(pca_df['Food']):\n",
    "    plt.text(pca_df['PC1'][i], pca_df['PC2'][i], food)\n",
    "\n",
    "plt.xlabel('Principal Component 1')\n",
    "plt.ylabel('Principal Component 2')\n",
    "plt.title('PCA of Food Nutritional Data')\n",
    "plt.grid()\n",
    "plt.show()"
   ]
  },
  {
   "cell_type": "code",
   "execution_count": null,
   "id": "4c4a41eb-96e7-4b50-9789-3cd4aba2b2ab",
   "metadata": {},
   "outputs": [],
   "source": [
    "loadings_pc1 = pca.components_[0]\n",
    "loadings_pc2 = pca.components_[1]\n",
    "\n",
    "loadings_df_pc1 = pd.DataFrame(loadings_pc1, index=features.columns, columns=['PC1'])\n",
    "loadings_df_pc2 = pd.DataFrame(loadings_pc2, index=features.columns, columns=['PC2'])\n",
    "\n",
    "print(\"Loadings for PC1:\")\n",
    "print(loadings_df_pc1)\n",
    "print(\"\\n\")\n",
    "print(\"Loadings for PC2:\")\n",
    "print(loadings_df_pc2)\n"
   ]
  },
  {
   "cell_type": "code",
   "execution_count": null,
   "id": "a2a731b6-1a4e-4995-9fac-1fc24672cadd",
   "metadata": {},
   "outputs": [],
   "source": [
    "pca_df"
   ]
  },
  {
   "cell_type": "code",
   "execution_count": null,
   "id": "97083279-d89d-45cc-8838-0f6e312f06c6",
   "metadata": {},
   "outputs": [],
   "source": [
    "n_clusters = 3\n",
    "kmeans1 = KMeans(n_clusters=n_clusters, random_state=23)\n",
    "kmeans1.fit(principal_components)\n",
    "pca_df['Cluster_3'] = kmeans1.labels_"
   ]
  },
  {
   "cell_type": "code",
   "execution_count": null,
   "id": "604e5898-0103-4a25-a384-1520236d7e1d",
   "metadata": {},
   "outputs": [],
   "source": [
    "plt.figure(figsize=(10, 7))\n",
    "plt.scatter(pca_df['PC1'], pca_df['PC2'], c=pca_df['Cluster_3'], cmap='viridis', marker='o')\n",
    "#for i, txt in enumerate(pca_df['Food']):\n",
    "#    plt.annotate(txt, (pca_df['PC1'][i], pca_df['PC2'][i]), fontsize=12)\n",
    "plt.xlabel('Principal Component 1')\n",
    "plt.ylabel('Principal Component 2')\n",
    "plt.title('PCA and K-Means 3 Clustering')\n",
    "plt.colorbar(label='Cluster')\n",
    "plt.grid(True)\n",
    "plt.show()"
   ]
  },
  {
   "cell_type": "code",
   "execution_count": null,
   "id": "3a86187e-7250-4aac-8586-e5cfe0f2ace6",
   "metadata": {},
   "outputs": [],
   "source": [
    "for cluster_id in range(n_clusters):\n",
    "    cluster_records = pca_df[pca_df['Cluster_3'] == cluster_id]['Food']\n",
    "    print(f\"Records in Cluster {cluster_id + 1}: {', '.join(cluster_records)}\\n\")"
   ]
  },
  {
   "cell_type": "code",
   "execution_count": null,
   "id": "a0817e35-fa99-4058-a97e-b5796f5442df",
   "metadata": {},
   "outputs": [],
   "source": [
    "kmeans1 = KMeans(n_clusters=3, random_state=23)\n",
    "kmeans1.fit(principal_components)\n",
    "pca_df['Cluster_3'] = kmeans1.labels_"
   ]
  },
  {
   "cell_type": "code",
   "execution_count": null,
   "id": "4ddba5b1-8131-4155-9a2e-2c3de98ca884",
   "metadata": {},
   "outputs": [],
   "source": [
    "for cluster_id in range(n_clusters):\n",
    "    cluster_records = pca_df[pca_df['Cluster_4'] == cluster_id]['Food']\n",
    "    print(f\"Records in Cluster {cluster_id}: {', '.join(cluster_records)}\")"
   ]
  },
  {
   "cell_type": "code",
   "execution_count": null,
   "id": "c61bba0e-ec5a-4e56-badc-05bf15832aad",
   "metadata": {},
   "outputs": [],
   "source": []
  },
  {
   "cell_type": "code",
   "execution_count": null,
   "id": "947f11d5-82ac-4b5c-949c-d9b0396d3e4c",
   "metadata": {},
   "outputs": [],
   "source": [
    "n_clusters = 5\n",
    "kmeans3 = KMeans(n_clusters=n_clusters, random_state=23)\n",
    "kmeans3.fit(principal_components)\n",
    "pca_df['Cluster_5'] = kmeans3.labels_"
   ]
  },
  {
   "cell_type": "code",
   "execution_count": null,
   "id": "29ed2e81-d350-482d-93c8-d868ebf08ee9",
   "metadata": {},
   "outputs": [],
   "source": [
    "plt.figure(figsize=(10, 7))\n",
    "plt.scatter(pca_df['PC1'], pca_df['PC2'], c=pca_df['Cluster_5'], cmap='viridis', marker='o')\n",
    "#for i, txt in enumerate(pca_df['Food']):\n",
    "#    plt.annotate(txt, (pca_df['PC1'][i], pca_df['PC2'][i]), fontsize=12)\n",
    "plt.xlabel('Principal Component 1')\n",
    "plt.ylabel('Principal Component 2')\n",
    "plt.title('PCA and K-Means 5 Clustering')\n",
    "plt.colorbar(label='Cluster')\n",
    "plt.grid(True)\n",
    "plt.show()"
   ]
  },
  {
   "cell_type": "code",
   "execution_count": null,
   "id": "9bd9e1be-c8d2-4ccd-95dd-772f57462dfc",
   "metadata": {},
   "outputs": [],
   "source": [
    "for cluster_id in range(n_clusters):\n",
    "    cluster_records = pca_df[pca_df['Cluster_5'] == cluster_id]['Food']\n",
    "    print(f\"Records in Cluster {cluster_id+1}: {', '.join(cluster_records)}\\n\")"
   ]
  },
  {
   "cell_type": "code",
   "execution_count": null,
   "id": "b57ad56d-e1f6-41cf-90a6-00404af2ed7c",
   "metadata": {},
   "outputs": [],
   "source": [
    "n_clusters = 4\n",
    "kmeans1 = KMeans(n_clusters=n_clusters, random_state=23)\n",
    "kmeans1.fit(principal_components)\n",
    "pca_df['Cluster_4'] = kmeans1.labels_"
   ]
  },
  {
   "cell_type": "code",
   "execution_count": null,
   "id": "2eec3a45-46e6-4dbc-9ca2-fe2db739be34",
   "metadata": {},
   "outputs": [],
   "source": [
    "plt.figure(figsize=(10, 7))\n",
    "plt.scatter(pca_df['PC1'], pca_df['PC2'], c=pca_df['Cluster_4'], cmap='viridis', marker='o')\n",
    "#for i, txt in enumerate(pca_df['Food']):\n",
    "#    plt.annotate(txt, (pca_df['PC1'][i], pca_df['PC2'][i]), fontsize=12)\n",
    "plt.xlabel('Principal Component 1')\n",
    "plt.ylabel('Principal Component 2')\n",
    "plt.title('PCA and K-Means 4 Clustering')\n",
    "plt.colorbar(label='Cluster')\n",
    "plt.grid(True)\n",
    "plt.show()"
   ]
  },
  {
   "cell_type": "code",
   "execution_count": null,
   "id": "da486d4c-7111-4e79-8ae2-15590e7f6ce5",
   "metadata": {},
   "outputs": [],
   "source": [
    "kmeans4 = KMeans(n_clusters=6, random_state=23)\n",
    "kmeans4.fit(principal_components)\n",
    "pca_df['Cluster_6'] = kmeans4.labels_"
   ]
  },
  {
   "cell_type": "code",
   "execution_count": null,
   "id": "41aab01e-e701-46a5-baf5-bc24f18996bd",
   "metadata": {},
   "outputs": [],
   "source": [
    "plt.figure(figsize=(10, 7))\n",
    "plt.scatter(pca_df['PC1'], pca_df['PC2'], c=pca_df['Cluster_6'], cmap='viridis', marker='o')\n",
    "#for i, txt in enumerate(pca_df['Food']):\n",
    "#    plt.annotate(txt, (pca_df['PC1'][i], pca_df['PC2'][i]), fontsize=12)\n",
    "plt.xlabel('Principal Component 1')\n",
    "plt.ylabel('Principal Component 2')\n",
    "plt.title('PCA and K-Means 6 Clustering')\n",
    "plt.colorbar(label='Cluster')\n",
    "plt.grid(True)\n",
    "plt.show()"
   ]
  },
  {
   "cell_type": "code",
   "execution_count": null,
   "id": "093418d9-ca66-41b2-8397-7c97586118cf",
   "metadata": {},
   "outputs": [],
   "source": [
    "for cluster_id in range(n_clusters):\n",
    "    cluster_records = pca_df[pca_df['Cluster_7'] == cluster_id]['Food']\n",
    "    print(f\"Records in Cluster {cluster_id + 1}: {', '.join(cluster_records)}\\n\")"
   ]
  },
  {
   "cell_type": "code",
   "execution_count": null,
   "id": "a808442c-6e38-4c5a-9eec-dca764a83647",
   "metadata": {},
   "outputs": [],
   "source": [
    "for cluster_id in range(n_clusters):\n",
    "    cluster_records = pca_df[pca_df['Cluster_6'] == cluster_id]['Food']\n",
    "    print(f\"Records in Cluster {cluster_id}: {', '.join(cluster_records)}\")"
   ]
  },
  {
   "cell_type": "code",
   "execution_count": null,
   "id": "b1d8e688-dc1c-409d-a6e6-96050c7c2c9f",
   "metadata": {},
   "outputs": [],
   "source": [
    "n_clusters = 7\n",
    "kmeans5 = KMeans(n_clusters=n_clusters, random_state=23)\n",
    "kmeans5.fit(principal_components)\n",
    "pca_df['Cluster_7'] = kmeans5.labels_"
   ]
  },
  {
   "cell_type": "code",
   "execution_count": null,
   "id": "c8203b89-98af-4ed8-aced-c2182af4b302",
   "metadata": {},
   "outputs": [],
   "source": [
    "plt.figure(figsize=(10, 7))\n",
    "plt.scatter(pca_df['PC1'], pca_df['PC2'], c=pca_df['Cluster_7'], cmap='viridis', marker='o')\n",
    "#for i, txt in enumerate(pca_df['Food']):\n",
    "#    plt.annotate(txt, (pca_df['PC1'][i], pca_df['PC2'][i]), fontsize=12)\n",
    "plt.xlabel('Principal Component 1')\n",
    "plt.ylabel('Principal Component 2')\n",
    "plt.title('PCA and K-Means 7 Clustering')\n",
    "plt.colorbar(label='Cluster')\n",
    "plt.grid(True)\n",
    "plt.show()"
   ]
  },
  {
   "cell_type": "code",
   "execution_count": null,
   "id": "e3dc8eec-3ff4-45c6-b1c8-66c202976b91",
   "metadata": {},
   "outputs": [],
   "source": [
    "for cluster_id in range(n_clusters):\n",
    "    cluster_records = pca_df[pca_df['Cluster_7'] == cluster_id]['Food']\n",
    "    print(f\"Records in Cluster {cluster_id + 1}: {', '.join(cluster_records)}\\n\")"
   ]
  },
  {
   "cell_type": "code",
   "execution_count": null,
   "id": "3c014d96-e8ac-4a63-936a-35353050e04c",
   "metadata": {},
   "outputs": [],
   "source": [
    "n_clusters = 8\n",
    "kmeans6 = KMeans(n_clusters=n_clusters, random_state=23)\n",
    "kmeans6.fit(principal_components)\n",
    "pca_df['Cluster_8'] = kmeans6.labels_"
   ]
  },
  {
   "cell_type": "code",
   "execution_count": null,
   "id": "5460ee0b-af2d-4bcd-9bbc-4c7e622bd61b",
   "metadata": {},
   "outputs": [],
   "source": [
    "plt.figure(figsize=(10, 7))\n",
    "plt.scatter(pca_df['PC1'], pca_df['PC2'], c=pca_df['Cluster_8'], cmap='viridis', marker='o')\n",
    "#for i, txt in enumerate(pca_df['Food']):\n",
    "#    plt.annotate(txt, (pca_df['PC1'][i], pca_df['PC2'][i]), fontsize=12)\n",
    "plt.xlabel('Principal Component 1')\n",
    "plt.ylabel('Principal Component 2')\n",
    "plt.title('PCA and K-Means 8 Clustering')\n",
    "plt.colorbar(label='Cluster')\n",
    "plt.grid(True)\n",
    "plt.show()"
   ]
  },
  {
   "cell_type": "code",
   "execution_count": null,
   "id": "55586dc3-2753-441e-93aa-922355df2566",
   "metadata": {},
   "outputs": [],
   "source": [
    "for cluster_id in range(n_clusters):\n",
    "    cluster_records = pca_df[pca_df['Cluster_8'] == cluster_id]['Food']\n",
    "    print(f\"Records in Cluster {cluster_id + 1}: {', '.join(cluster_records)}\\n\")"
   ]
  },
  {
   "cell_type": "code",
   "execution_count": null,
   "id": "ac125cde-f88b-4dc7-8cdf-9c4a4ab15cea",
   "metadata": {},
   "outputs": [],
   "source": []
  }
 ],
 "metadata": {
  "kernelspec": {
   "display_name": "Python 3 (ipykernel)",
   "language": "python",
   "name": "python3"
  },
  "language_info": {
   "codemirror_mode": {
    "name": "ipython",
    "version": 3
   },
   "file_extension": ".py",
   "mimetype": "text/x-python",
   "name": "python",
   "nbconvert_exporter": "python",
   "pygments_lexer": "ipython3",
   "version": "3.10.14"
  }
 },
 "nbformat": 4,
 "nbformat_minor": 5
}
